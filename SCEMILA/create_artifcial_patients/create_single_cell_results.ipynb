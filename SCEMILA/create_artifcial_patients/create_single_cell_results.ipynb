{
 "cells": [
  {
   "cell_type": "code",
   "execution_count": 1,
   "metadata": {},
   "outputs": [],
   "source": [
    "import matplotlib.pyplot as plt\n",
    "import numpy as np\n",
    "import os\n",
    "from matplotlib.cm import get_cmap\n",
    "from matplotlib.lines import Line2D\n",
    "import pandas as pd\n",
    "import re\n",
    "import seaborn as sns"
   ]
  },
  {
   "cell_type": "code",
   "execution_count": 9,
   "metadata": {},
   "outputs": [],
   "source": [
    "def get_counts_vector(labels_vector):\n",
    "    unique_labels, label_counts = np.unique(labels_vector, return_counts=True)\n",
    "    counts_vector = np.zeros(21, dtype=int)\n",
    "    counts_vector[unique_labels] = label_counts\n",
    "    return counts_vector, unique_labels\n",
    "\n",
    "sc_class_labels= ['eosinophil granulocyte', 'reactive lymphocyte',\n",
    "       'neutrophil granulocyte (segmented)', 'typical lymphocyte',\n",
    "       'other', 'neutrophil granulocyte (band)', 'monocyte',\n",
    "       'large granulated lymphocyte', 'atypical promyelocyte',\n",
    "       'basophil granulocyte', 'smudge cell', 'neoplastic lymphocyte',\n",
    "       'promyelocyte', 'myelocyte', 'myeloblast', 'metamyelocyte',\n",
    "       'normo', 'plasma cell', 'hair cell', 'bilobed M3v',\n",
    "       'mononucleosis']\n",
    "\n",
    "aml_class_labels = [\"CBFB_MYH11\",\"control\",\"NPM1\",\"PML_RARA\",\"RUNX1_RUNX1T1\"]\n",
    "\n",
    "# Path to the folder containing your files\n",
    "data_path = '../../../smalldataset/data'\n",
    "result_path = '../../../smalldataset/data'"
   ]
  },
  {
   "cell_type": "markdown",
   "metadata": {},
   "source": [
    "## Calculate Single Cell Classification counts "
   ]
  },
  {
   "cell_type": "code",
   "execution_count": 10,
   "metadata": {},
   "outputs": [],
   "source": [
    "def get_patient_name(path):\n",
    "    return re.search(r\"/data/\\w+/([A-Z]{3})\", path).group(1)\n",
    "\n",
    "def get_class_name(path):\n",
    "    return re.search(r\"/data/(\\w+)\", path).group(1)\n",
    "\n",
    "def get_image_number(path):\n",
    "    return re.search(r\"image_(\\d).tif\", path).group(1)\n",
    "\n",
    "def get_classification_patient(patient_folder):\n",
    "    probs_path = patient_folder + '/single_cell_probabilities.npy'\n",
    "    sc_probs = np.load(probs_path)\n",
    "    sc_class= np.argmax(sc_probs, axis=1)\n",
    "    return sc_class"
   ]
  },
  {
   "cell_type": "code",
   "execution_count": 7,
   "metadata": {},
   "outputs": [
    {
     "name": "stdout",
     "output_type": "stream",
     "text": [
      "../../../smalldataset/data/CBFB_MYH11\n",
      "../../../smalldataset/data/control\n",
      "../../../smalldataset/data/NPM1\n",
      "../../../smalldataset/data/output\n",
      "Skipping patient folder without single_cell_probabilities.npy: ../../../smalldataset/data/output/result_folder_1\n",
      "../../../smalldataset/data/PML_RARA\n",
      "../../../smalldataset/data/RUNX1_RUNX1T1\n"
     ]
    }
   ],
   "source": [
    "df = pd.DataFrame(columns=[\"patient\",\"AML_subtype\"]+sc_class_labels)\n",
    "# Save class classification count for each patient in csv file\n",
    "for folder_class in os.listdir(data_path):\n",
    "    folder_class = os.path.join(data_path, folder_class)\n",
    "    \n",
    "    if os.path.isdir(folder_class):\n",
    "       print(folder_class)\n",
    "       for folder_patient in os.listdir(folder_class):\n",
    "            folder_patient = os.path.join(folder_class, folder_patient)\n",
    "            \n",
    "            if os.path.isdir(folder_patient):\n",
    "                if \"single_cell_probabilities.npy\" not in os.listdir(folder_patient):\n",
    "                    print(\"Skipping patient folder without single_cell_probabilities.npy:\", folder_patient)\n",
    "                    continue\n",
    "                sc_class = get_classification_patient(folder_patient)\n",
    "                counts_vector,unique_labels = get_counts_vector(sc_class)\n",
    "                df.loc[len(df)]=np.array([get_patient_name(folder_patient),get_class_name(folder_patient)]+counts_vector.tolist())"
   ]
  },
  {
   "cell_type": "code",
   "execution_count": 8,
   "metadata": {},
   "outputs": [],
   "source": [
    "df[sc_class_labels]=df[sc_class_labels].astype(int)\n",
    "df[[\"patient\",\"AML_subtype\"]]=df[[\"patient\",\"AML_subtype\"]].astype(str)"
   ]
  },
  {
   "cell_type": "code",
   "execution_count": 11,
   "metadata": {},
   "outputs": [],
   "source": [
    "df.to_csv(result_path+\"/single_cell_results.csv\")"
   ]
  }
 ],
 "metadata": {
  "kernelspec": {
   "display_name": "Python 3",
   "language": "python",
   "name": "python3"
  },
  "language_info": {
   "codemirror_mode": {
    "name": "ipython",
    "version": 3
   },
   "file_extension": ".py",
   "mimetype": "text/x-python",
   "name": "python",
   "nbconvert_exporter": "python",
   "pygments_lexer": "ipython3",
   "version": "3.10.13"
  },
  "orig_nbformat": 4
 },
 "nbformat": 4,
 "nbformat_minor": 2
}
